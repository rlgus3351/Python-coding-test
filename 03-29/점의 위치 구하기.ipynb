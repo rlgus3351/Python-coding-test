{
 "cells": [
  {
   "cell_type": "code",
   "execution_count": 9,
   "metadata": {},
   "outputs": [],
   "source": [
    "def solution(dot):\n",
    "    answer = 0\n",
    "    isX = dot[0]>0\n",
    "    isY = dot[1]>0\n",
    "    temp = [isX,isY]\n",
    "    if(temp[0]):\n",
    "        if(temp[1]):\n",
    "            answer = 1\n",
    "        else:\n",
    "            answer = 4\n",
    "    else:\n",
    "        if(temp[1]):\n",
    "            answer=2\n",
    "        else:\n",
    "            answer =3\n",
    "\n",
    "    return answer"
   ]
  },
  {
   "cell_type": "code",
   "execution_count": 10,
   "metadata": {},
   "outputs": [
    {
     "data": {
      "text/plain": [
       "1"
      ]
     },
     "execution_count": 10,
     "metadata": {},
     "output_type": "execute_result"
    }
   ],
   "source": [
    "solution([2,4])"
   ]
  }
 ],
 "metadata": {
  "kernelspec": {
   "display_name": "Python 3",
   "language": "python",
   "name": "python3"
  },
  "language_info": {
   "codemirror_mode": {
    "name": "ipython",
    "version": 3
   },
   "file_extension": ".py",
   "mimetype": "text/x-python",
   "name": "python",
   "nbconvert_exporter": "python",
   "pygments_lexer": "ipython3",
   "version": "3.9.8"
  },
  "orig_nbformat": 4
 },
 "nbformat": 4,
 "nbformat_minor": 2
}
